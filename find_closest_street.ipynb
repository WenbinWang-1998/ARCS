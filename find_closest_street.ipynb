{
 "cells": [
  {
   "cell_type": "markdown",
   "metadata": {
    "collapsed": true,
    "pycharm": {
     "name": "#%% md\n"
    }
   },
   "source": [
    "json导入节点，geopy的distance方法用于计算距离"
   ]
  },
  {
   "cell_type": "code",
   "execution_count": 1,
   "outputs": [],
   "source": [
    "import json\n",
    "from geopy import distance\n",
    "\n",
    "with open(\"way_node.json\",'r') as load_way:\n",
    "    way_node = json.load(load_way)"
   ],
   "metadata": {
    "collapsed": false,
    "pycharm": {
     "name": "#%%\n"
    }
   }
  },
  {
   "cell_type": "markdown",
   "source": [
    "找主干道：\n",
    "\n",
    "1.同时输入起点和终点，只需要遍历所有节点一次\n",
    "\n",
    "2.初始化最短距离我用的是起点和终点间的距离\n",
    "\n",
    "3.计算距离用'distance.great_circle'，近似球形距离，主要是比较快，\n",
    "如果用'distance.distance'算精确距离的话，太慢了，达不到实时的效果\n",
    "\n",
    "4.输出新的起点、终点和对应的街道（需要的话可以改）"
   ],
   "metadata": {
    "collapsed": false,
    "pycharm": {
     "name": "#%% md\n"
    }
   }
  },
  {
   "cell_type": "code",
   "execution_count": 2,
   "outputs": [],
   "source": [
    "def find_closest_street(way_dict,src,tar):\n",
    "    min_src_dist = distance.great_circle((src[0],src[1]),(tar[0],tar[1])).km\n",
    "    min_tar_dist = min_src_dist\n",
    "    for streets in way_dict:\n",
    "        for nodes in way_dict[streets]:\n",
    "            lat = way_dict[streets][nodes][0]\n",
    "            lon = way_dict[streets][nodes][1]\n",
    "            src_dist = distance.great_circle((lat,lon),(src[0],src[1])).km\n",
    "            tar_dist = distance.great_circle((lat,lon),(tar[0],tar[1])).km\n",
    "            if src_dist < min_src_dist:\n",
    "                min_src_dist = src_dist\n",
    "                src_new = [lat,lon]\n",
    "                src_street = str(way_dict[streets])\n",
    "            if tar_dist < min_tar_dist:\n",
    "                min_tar_dist = tar_dist\n",
    "                tar_new = [lat,lon]\n",
    "                tar_street = str(way_dict[streets])\n",
    "    return src_new,src_street,tar_new,tar_street"
   ],
   "metadata": {
    "collapsed": false,
    "pycharm": {
     "name": "#%%\n"
    }
   }
  },
  {
   "cell_type": "markdown",
   "source": [
    "用老师提供的**location.txt**试下效果："
   ],
   "metadata": {
    "collapsed": false,
    "pycharm": {
     "name": "#%% md\n"
    }
   }
  },
  {
   "cell_type": "code",
   "execution_count": 3,
   "outputs": [
    {
     "data": {
      "text/plain": "([42.3573772, -71.070548],\n \"{'61362484': [42.3576957, -71.0707068], '61470777': [42.3573772, -71.070548], '61341197': [42.3569208, -71.0702838], '1038908669': [42.3567336, -71.0701769], '61341187': [42.3564525, -71.0700429], '1038913920': [42.3562176, -71.0699056], '61340799': [42.3561048, -71.0698547]}\",\n [42.3569737, -71.0677675],\n \"{'61425627': [42.3569737, -71.0677675], '61425625': [42.3570435, -71.0674417]}\")"
     },
     "execution_count": 3,
     "metadata": {},
     "output_type": "execute_result"
    }
   ],
   "source": [
    "find_closest_street(way_node,[42.3570104,-71.0710964],[42.3568701,-71.0682476])"
   ],
   "metadata": {
    "collapsed": false,
    "pycharm": {
     "name": "#%%\n"
    }
   }
  }
 ],
 "metadata": {
  "kernelspec": {
   "name": "pycharm-714d53e6",
   "language": "python",
   "display_name": "PyCharm (RouteRecommend)"
  },
  "language_info": {
   "codemirror_mode": {
    "name": "ipython",
    "version": 2
   },
   "file_extension": ".py",
   "mimetype": "text/x-python",
   "name": "python",
   "nbconvert_exporter": "python",
   "pygments_lexer": "ipython2",
   "version": "2.7.6"
  }
 },
 "nbformat": 4,
 "nbformat_minor": 0
}