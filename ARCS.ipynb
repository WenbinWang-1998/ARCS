{
 "cells": [
  {
   "cell_type": "markdown",
   "metadata": {
    "collapsed": true,
    "pycharm": {
     "name": "#%% md\n"
    }
   },
   "source": [
    "# Advanced Route reCommendation System (ARCS)\n",
    "\n",
    "Welcome to **Advanced Route reCommendation System (ARCS)**!\n",
    "\n",
    "First, let's import libraries and algorithms we need."
   ]
  },
  {
   "cell_type": "code",
   "execution_count": null,
   "metadata": {
    "pycharm": {
     "name": "#%%\n"
    }
   },
   "outputs": [],
   "source": [
    "import json\n",
    "import time\n",
    "import folium\n",
    "from find_closest_street import find_closest_street\n",
    "import Dijkstra\n",
    "import Bellman_Ford\n",
    "import A_star"
   ]
  },
  {
   "cell_type": "markdown",
   "metadata": {},
   "source": [
    "Now, let's initialize the map so you can click on it to find the coordinates of your source and target points."
   ]
  },
  {
   "cell_type": "code",
   "execution_count": null,
   "metadata": {
    "pycharm": {
     "name": "#%%\n"
    }
   },
   "outputs": [],
   "source": [
    "map = folium.Map(location=[42.36055,-71.0606], zoom_start=15, control_scale=True)\n",
    "map.add_child(folium.LatLngPopup())\n",
    "map"
   ]
  },
  {
   "cell_type": "markdown",
   "metadata": {},
   "source": [
    "Found out where you are and decided where to go?\n",
    "Great, record them and change the default points down here.\n",
    "And we will convert them to their nearest points on streets."
   ]
  },
  {
   "cell_type": "code",
   "execution_count": null,
   "metadata": {
    "pycharm": {
     "name": "#%%\n"
    }
   },
   "outputs": [],
   "source": [
    "source = [42.3570104,-71.0710964]\n",
    "target = [42.3568701,-71.0682476]\n",
    "[source,target] = find_closest_street(source,target)"
   ]
  },
  {
   "cell_type": "markdown",
   "metadata": {
    "pycharm": {
     "name": "#%% md\n"
    }
   },
   "source": [
    "OK, now it's time to plan the route.\n",
    "Which one do you prefer? Uncomment it.\n",
    "And we can also measure the runtime of it."
   ]
  },
  {
   "cell_type": "code",
   "execution_count": null,
   "metadata": {
    "pycharm": {
     "name": "#%%\n"
    }
   },
   "outputs": [],
   "source": [
    "adj = Dijkstra.get_adj_from_all_nodes()\n",
    "start_time = time.time()\n",
    "# [geojson,distance] = Dijkstra.dijkstra(adj,source,target)\n",
    "# [geojson,distance] = Bellman_Ford.Bellmanford(adj,source,target)\n",
    "[geojson,distance] = A_star.Astar(adj,source,target)\n",
    "'The runtime is '+str(time.time() - start_time)+' seconds.'"
   ]
  },
  {
   "cell_type": "markdown",
   "metadata": {},
   "source": [
    "Great, now we have the route inside GeoJSON, let's look at it."
   ]
  },
  {
   "cell_type": "code",
   "execution_count": null,
   "metadata": {
    "pycharm": {
     "name": "#%%\n"
    }
   },
   "outputs": [],
   "source": [
    "folium.Marker(\n",
    "    location=source,\n",
    "    popup='Source',\n",
    "    icon=folium.Icon(color='green', icon='ok-sign'),\n",
    ").add_to(map)\n",
    "folium.Marker(\n",
    "    location=target,\n",
    "    popup='Target',\n",
    "    icon=folium.Icon(color='red', icon='ok-sign'),\n",
    ").add_to(map)\n",
    "folium.features.GeoJson(geojson).add_to(map)\n",
    "map"
   ]
  },
  {
   "cell_type": "markdown",
   "metadata": {
    "pycharm": {
     "name": "#%% md\n"
    }
   },
   "source": [
    "That's all! Thank you for using **ARCS**!"
   ]
  }
 ],
 "metadata": {
  "kernelspec": {
   "display_name": "Python 3",
   "language": "python",
   "name": "python3"
  },
  "language_info": {
   "codemirror_mode": {
    "name": "ipython",
    "version": 3
   },
   "file_extension": ".py",
   "mimetype": "text/x-python",
   "name": "python",
   "nbconvert_exporter": "python",
   "pygments_lexer": "ipython3",
   "version": "3.8.5"
  }
 },
 "nbformat": 4,
 "nbformat_minor": 1
}
